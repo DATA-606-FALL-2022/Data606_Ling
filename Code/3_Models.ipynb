{
 "cells": [
  {
   "cell_type": "markdown",
   "id": "9f3fda6c",
   "metadata": {},
   "source": [
    "## Sentiment Analysis Using Python’s Scikit-Learn"
   ]
  },
  {
   "cell_type": "markdown",
   "id": "6c94493d",
   "metadata": {},
   "source": [
    "Sentiment analysis is one of the most important parts of Natural Language Processing. It is different than machine learning with numeric data because text data cannot be processed by an algorithm directly. It needs to be transformed into a numeric form. So, text data are vectorized before they get fed into the machine learning model. There are different methods of vectorization. This project is demonstrating sentiment analysis using two types of vectorizers (Count Vectorizer and TF-IDF Vectorizer)and four machine learning models(Logistic Regression, K Nearest Neighbor, Support Vector Machine, and Random Forest).\n",
    "\n",
    "### 1. Count Vectorizer\n",
    "        1.1 Logistic Regrssion\n",
    "        1.2 K Nearest Neighbor\n",
    "        1.3 Support Vector Classifier\n",
    "        1.4 Random Forest\n",
    "        \n",
    "### 2. TF-IDF Vectorizer\n",
    "        2.1 Logistic Regrssion\n",
    "        2.2 K Nearest Neighbor\n",
    "        2.3 Support Vector Classifier\n",
    "        2.4 Random Forest\n",
    "### 3. Conclusion\n"
   ]
  },
  {
   "cell_type": "code",
   "execution_count": 1,
   "id": "e4b1a384",
   "metadata": {},
   "outputs": [],
   "source": [
    "# General packages\n",
    "import numpy as np\n",
    "import pandas as pd\n",
    "import matplotlib.pyplot as plt\n",
    "import os\n",
    "\n",
    "#Visualization libraries\n",
    "import matplotlib.pyplot as plt \n",
    "import seaborn as sns\n",
    "from plotly import tools\n",
    "import plotly.graph_objs as go"
   ]
  },
  {
   "cell_type": "code",
   "execution_count": 2,
   "id": "d6de2eda",
   "metadata": {},
   "outputs": [],
   "source": [
    "# NLP packages\n",
    "import nltk \n",
    "from nltk import word_tokenize\n",
    "from nltk.tokenize import word_tokenize\n",
    "from sklearn.feature_extraction.text import CountVectorizer\n",
    "from sklearn.feature_extraction.text import TfidfVectorizer\n",
    "from collections import Counter\n",
    "from nltk.corpus import stopwords\n",
    "#from nltk.stem import PorterStemmer, LancasterStemmer\n",
    "from sklearn.metrics import classification_report"
   ]
  },
  {
   "cell_type": "markdown",
   "id": "69f081c0",
   "metadata": {},
   "source": [
    "### Importing Data"
   ]
  },
  {
   "cell_type": "code",
   "execution_count": 3,
   "id": "f9f2c89d",
   "metadata": {},
   "outputs": [],
   "source": [
    "# Reading data from .csv file\n",
    "Reviews = pd.read_csv(\"Pre-processing_DatafinitiElectronicsProductData\")"
   ]
  },
  {
   "cell_type": "code",
   "execution_count": 4,
   "id": "8a46f450",
   "metadata": {},
   "outputs": [
    {
     "data": {
      "text/html": [
       "<div>\n",
       "<style scoped>\n",
       "    .dataframe tbody tr th:only-of-type {\n",
       "        vertical-align: middle;\n",
       "    }\n",
       "\n",
       "    .dataframe tbody tr th {\n",
       "        vertical-align: top;\n",
       "    }\n",
       "\n",
       "    .dataframe thead th {\n",
       "        text-align: right;\n",
       "    }\n",
       "</style>\n",
       "<table border=\"1\" class=\"dataframe\">\n",
       "  <thead>\n",
       "    <tr style=\"text-align: right;\">\n",
       "      <th></th>\n",
       "      <th>Unnamed: 0</th>\n",
       "      <th>id</th>\n",
       "      <th>asins</th>\n",
       "      <th>brand</th>\n",
       "      <th>categories</th>\n",
       "      <th>colors</th>\n",
       "      <th>dateAdded</th>\n",
       "      <th>dateUpdated</th>\n",
       "      <th>dimension</th>\n",
       "      <th>ean</th>\n",
       "      <th>...</th>\n",
       "      <th>reviews.text</th>\n",
       "      <th>reviews.title</th>\n",
       "      <th>reviews.username</th>\n",
       "      <th>sourceURLs</th>\n",
       "      <th>upc</th>\n",
       "      <th>weight</th>\n",
       "      <th>lowercase_text_reviews</th>\n",
       "      <th>withoutstop_reviews_text</th>\n",
       "      <th>stemmed_reviews_text</th>\n",
       "      <th>lemma_reviews_text</th>\n",
       "    </tr>\n",
       "  </thead>\n",
       "  <tbody>\n",
       "    <tr>\n",
       "      <th>0</th>\n",
       "      <td>0</td>\n",
       "      <td>AVpf3txeLJeJML43FN82</td>\n",
       "      <td>B0168YIWSI</td>\n",
       "      <td>Microsoft</td>\n",
       "      <td>Electronics,Computers,Computer Accessories,Key...</td>\n",
       "      <td>Black</td>\n",
       "      <td>2015-11-13T12:28:09Z</td>\n",
       "      <td>2018-01-29T02:15:13Z</td>\n",
       "      <td>11.6 in x 8.5 in x 0.19 in</td>\n",
       "      <td>8.900000e+11</td>\n",
       "      <td>...</td>\n",
       "      <td>This keyboard is very easy to type on, but the...</td>\n",
       "      <td>Love the fingerprint reader</td>\n",
       "      <td>JNH1</td>\n",
       "      <td>https://www.walmart.com/ip/Microsoft-Surface-P...</td>\n",
       "      <td>8.900000e+11</td>\n",
       "      <td>1.1 pounds</td>\n",
       "      <td>this keyboard is very easy to type on  but the...</td>\n",
       "      <td>['keyboard', 'easy', 'type', 'fingerprint', 'r...</td>\n",
       "      <td>['keyboard ', 'easi ', 'type ', 'fingerprint '...</td>\n",
       "      <td>['keyboard ', 'easy ', 'type ', 'fingerprint '...</td>\n",
       "    </tr>\n",
       "    <tr>\n",
       "      <th>1</th>\n",
       "      <td>1</td>\n",
       "      <td>AVpf3txeLJeJML43FN82</td>\n",
       "      <td>B0168YIWSI</td>\n",
       "      <td>Microsoft</td>\n",
       "      <td>Electronics,Computers,Computer Accessories,Key...</td>\n",
       "      <td>Black</td>\n",
       "      <td>2015-11-13T12:28:09Z</td>\n",
       "      <td>2018-01-29T02:15:13Z</td>\n",
       "      <td>11.6 in x 8.5 in x 0.19 in</td>\n",
       "      <td>8.900000e+11</td>\n",
       "      <td>...</td>\n",
       "      <td>It's thin and light. I can type pretty easily ...</td>\n",
       "      <td>Nice</td>\n",
       "      <td>Appa</td>\n",
       "      <td>https://www.walmart.com/ip/Microsoft-Surface-P...</td>\n",
       "      <td>8.900000e+11</td>\n",
       "      <td>1.1 pounds</td>\n",
       "      <td>it s thin and light  i can type pretty easily ...</td>\n",
       "      <td>['thin', 'light', 'type', 'pretty', 'easily']</td>\n",
       "      <td>['thin ', 'light ', 'type ', 'pretti ', 'easil...</td>\n",
       "      <td>['thin ', 'light ', 'type ', 'pretty ', 'easil...</td>\n",
       "    </tr>\n",
       "    <tr>\n",
       "      <th>2</th>\n",
       "      <td>2</td>\n",
       "      <td>AVpf3txeLJeJML43FN82</td>\n",
       "      <td>B0168YIWSI</td>\n",
       "      <td>Microsoft</td>\n",
       "      <td>Electronics,Computers,Computer Accessories,Key...</td>\n",
       "      <td>Black</td>\n",
       "      <td>2015-11-13T12:28:09Z</td>\n",
       "      <td>2018-01-29T02:15:13Z</td>\n",
       "      <td>11.6 in x 8.5 in x 0.19 in</td>\n",
       "      <td>8.900000e+11</td>\n",
       "      <td>...</td>\n",
       "      <td>I love the new design the keys are spaced well...</td>\n",
       "      <td>New</td>\n",
       "      <td>Kman</td>\n",
       "      <td>https://www.walmart.com/ip/Microsoft-Surface-P...</td>\n",
       "      <td>8.900000e+11</td>\n",
       "      <td>1.1 pounds</td>\n",
       "      <td>i love the new design the keys are spaced well...</td>\n",
       "      <td>['love', 'new', 'design', 'keys', 'spaced', 'w...</td>\n",
       "      <td>['love ', 'new ', 'design ', 'key ', 'space ',...</td>\n",
       "      <td>['love ', 'new ', 'design ', 'key ', 'space ',...</td>\n",
       "    </tr>\n",
       "  </tbody>\n",
       "</table>\n",
       "<p>3 rows × 32 columns</p>\n",
       "</div>"
      ],
      "text/plain": [
       "   Unnamed: 0                    id       asins      brand  \\\n",
       "0           0  AVpf3txeLJeJML43FN82  B0168YIWSI  Microsoft   \n",
       "1           1  AVpf3txeLJeJML43FN82  B0168YIWSI  Microsoft   \n",
       "2           2  AVpf3txeLJeJML43FN82  B0168YIWSI  Microsoft   \n",
       "\n",
       "                                          categories colors  \\\n",
       "0  Electronics,Computers,Computer Accessories,Key...  Black   \n",
       "1  Electronics,Computers,Computer Accessories,Key...  Black   \n",
       "2  Electronics,Computers,Computer Accessories,Key...  Black   \n",
       "\n",
       "              dateAdded           dateUpdated                   dimension  \\\n",
       "0  2015-11-13T12:28:09Z  2018-01-29T02:15:13Z  11.6 in x 8.5 in x 0.19 in   \n",
       "1  2015-11-13T12:28:09Z  2018-01-29T02:15:13Z  11.6 in x 8.5 in x 0.19 in   \n",
       "2  2015-11-13T12:28:09Z  2018-01-29T02:15:13Z  11.6 in x 8.5 in x 0.19 in   \n",
       "\n",
       "            ean  ...                                       reviews.text  \\\n",
       "0  8.900000e+11  ...  This keyboard is very easy to type on, but the...   \n",
       "1  8.900000e+11  ...  It's thin and light. I can type pretty easily ...   \n",
       "2  8.900000e+11  ...  I love the new design the keys are spaced well...   \n",
       "\n",
       "                 reviews.title reviews.username  \\\n",
       "0  Love the fingerprint reader             JNH1   \n",
       "1                         Nice             Appa   \n",
       "2                          New             Kman   \n",
       "\n",
       "                                          sourceURLs           upc  \\\n",
       "0  https://www.walmart.com/ip/Microsoft-Surface-P...  8.900000e+11   \n",
       "1  https://www.walmart.com/ip/Microsoft-Surface-P...  8.900000e+11   \n",
       "2  https://www.walmart.com/ip/Microsoft-Surface-P...  8.900000e+11   \n",
       "\n",
       "       weight                             lowercase_text_reviews  \\\n",
       "0  1.1 pounds  this keyboard is very easy to type on  but the...   \n",
       "1  1.1 pounds  it s thin and light  i can type pretty easily ...   \n",
       "2  1.1 pounds  i love the new design the keys are spaced well...   \n",
       "\n",
       "                            withoutstop_reviews_text  \\\n",
       "0  ['keyboard', 'easy', 'type', 'fingerprint', 'r...   \n",
       "1      ['thin', 'light', 'type', 'pretty', 'easily']   \n",
       "2  ['love', 'new', 'design', 'keys', 'spaced', 'w...   \n",
       "\n",
       "                                stemmed_reviews_text  \\\n",
       "0  ['keyboard ', 'easi ', 'type ', 'fingerprint '...   \n",
       "1  ['thin ', 'light ', 'type ', 'pretti ', 'easil...   \n",
       "2  ['love ', 'new ', 'design ', 'key ', 'space ',...   \n",
       "\n",
       "                                  lemma_reviews_text  \n",
       "0  ['keyboard ', 'easy ', 'type ', 'fingerprint '...  \n",
       "1  ['thin ', 'light ', 'type ', 'pretty ', 'easil...  \n",
       "2  ['love ', 'new ', 'design ', 'key ', 'space ',...  \n",
       "\n",
       "[3 rows x 32 columns]"
      ]
     },
     "execution_count": 4,
     "metadata": {},
     "output_type": "execute_result"
    }
   ],
   "source": [
    "Reviews.head(3)"
   ]
  },
  {
   "cell_type": "code",
   "execution_count": 5,
   "id": "e8bc6701",
   "metadata": {},
   "outputs": [
    {
     "name": "stdout",
     "output_type": "stream",
     "text": [
      "<class 'pandas.core.frame.DataFrame'>\n",
      "RangeIndex: 1800 entries, 0 to 1799\n",
      "Data columns (total 32 columns):\n",
      " #   Column                    Non-Null Count  Dtype  \n",
      "---  ------                    --------------  -----  \n",
      " 0   Unnamed: 0                1800 non-null   int64  \n",
      " 1   id                        1800 non-null   object \n",
      " 2   asins                     1800 non-null   object \n",
      " 3   brand                     1800 non-null   object \n",
      " 4   categories                1800 non-null   object \n",
      " 5   colors                    1800 non-null   object \n",
      " 6   dateAdded                 1800 non-null   object \n",
      " 7   dateUpdated               1800 non-null   object \n",
      " 8   dimension                 1800 non-null   object \n",
      " 9   ean                       1800 non-null   float64\n",
      " 10  imageURLs                 1800 non-null   object \n",
      " 11  keys                      1800 non-null   object \n",
      " 12  manufacturer              1800 non-null   object \n",
      " 13  manufacturerNumber        1800 non-null   object \n",
      " 14  name                      1800 non-null   object \n",
      " 15  primaryCategories         1800 non-null   object \n",
      " 16  reviews.date              1800 non-null   object \n",
      " 17  reviews.dateSeen          1800 non-null   object \n",
      " 18  reviews.doRecommend       1800 non-null   bool   \n",
      " 19  reviews.numHelpful        1800 non-null   float64\n",
      " 20  reviews.rating            1800 non-null   float64\n",
      " 21  reviews.sourceURLs        1800 non-null   object \n",
      " 22  reviews.text              1800 non-null   object \n",
      " 23  reviews.title             1800 non-null   object \n",
      " 24  reviews.username          1800 non-null   object \n",
      " 25  sourceURLs                1800 non-null   object \n",
      " 26  upc                       1800 non-null   float64\n",
      " 27  weight                    1800 non-null   object \n",
      " 28  lowercase_text_reviews    1800 non-null   object \n",
      " 29  withoutstop_reviews_text  1800 non-null   object \n",
      " 30  stemmed_reviews_text      1800 non-null   object \n",
      " 31  lemma_reviews_text        1800 non-null   object \n",
      "dtypes: bool(1), float64(4), int64(1), object(26)\n",
      "memory usage: 437.8+ KB\n"
     ]
    }
   ],
   "source": [
    "Reviews.info() "
   ]
  },
  {
   "cell_type": "markdown",
   "id": "b0211e7f",
   "metadata": {},
   "source": [
    "### Standardization the Ratings"
   ]
  },
  {
   "cell_type": "code",
   "execution_count": 6,
   "id": "b0d75903",
   "metadata": {},
   "outputs": [
    {
     "data": {
      "text/plain": [
       "1    1571\n",
       "0     115\n",
       "Name: Sentiment_rating, dtype: int64"
      ]
     },
     "execution_count": 6,
     "metadata": {},
     "output_type": "execute_result"
    }
   ],
   "source": [
    "# This function returns sentiment value based on the overall ratings from the user\n",
    "    \n",
    "Reviews['Sentiment_rating'] = np.where(Reviews['reviews.rating'] > 3,1,0)\n",
    "\n",
    "# Removing neutral reviews. \n",
    "Reviews = Reviews[Reviews['reviews.rating'] != 3]\n",
    "\n",
    "# Printing the counts of each class\n",
    "Reviews['Sentiment_rating'].value_counts()"
   ]
  },
  {
   "cell_type": "code",
   "execution_count": 7,
   "id": "ab687867",
   "metadata": {},
   "outputs": [
    {
     "data": {
      "text/html": [
       "<div>\n",
       "<style scoped>\n",
       "    .dataframe tbody tr th:only-of-type {\n",
       "        vertical-align: middle;\n",
       "    }\n",
       "\n",
       "    .dataframe tbody tr th {\n",
       "        vertical-align: top;\n",
       "    }\n",
       "\n",
       "    .dataframe thead th {\n",
       "        text-align: right;\n",
       "    }\n",
       "</style>\n",
       "<table border=\"1\" class=\"dataframe\">\n",
       "  <thead>\n",
       "    <tr style=\"text-align: right;\">\n",
       "      <th></th>\n",
       "      <th>lowercase_text_reviews</th>\n",
       "      <th>reviews.rating</th>\n",
       "      <th>Sentiment_rating</th>\n",
       "    </tr>\n",
       "  </thead>\n",
       "  <tbody>\n",
       "    <tr>\n",
       "      <th>0</th>\n",
       "      <td>this keyboard is very easy to type on  but the...</td>\n",
       "      <td>5.0</td>\n",
       "      <td>1</td>\n",
       "    </tr>\n",
       "    <tr>\n",
       "      <th>1</th>\n",
       "      <td>it s thin and light  i can type pretty easily ...</td>\n",
       "      <td>4.0</td>\n",
       "      <td>1</td>\n",
       "    </tr>\n",
       "    <tr>\n",
       "      <th>2</th>\n",
       "      <td>i love the new design the keys are spaced well...</td>\n",
       "      <td>4.0</td>\n",
       "      <td>1</td>\n",
       "    </tr>\n",
       "    <tr>\n",
       "      <th>3</th>\n",
       "      <td>attached easily and firmly  has a nice feel  a...</td>\n",
       "      <td>5.0</td>\n",
       "      <td>1</td>\n",
       "    </tr>\n",
       "    <tr>\n",
       "      <th>4</th>\n",
       "      <td>our original keyboard was okay  but did not ha...</td>\n",
       "      <td>5.0</td>\n",
       "      <td>1</td>\n",
       "    </tr>\n",
       "  </tbody>\n",
       "</table>\n",
       "</div>"
      ],
      "text/plain": [
       "                              lowercase_text_reviews  reviews.rating  \\\n",
       "0  this keyboard is very easy to type on  but the...             5.0   \n",
       "1  it s thin and light  i can type pretty easily ...             4.0   \n",
       "2  i love the new design the keys are spaced well...             4.0   \n",
       "3  attached easily and firmly  has a nice feel  a...             5.0   \n",
       "4  our original keyboard was okay  but did not ha...             5.0   \n",
       "\n",
       "   Sentiment_rating  \n",
       "0                 1  \n",
       "1                 1  \n",
       "2                 1  \n",
       "3                 1  \n",
       "4                 1  "
      ]
     },
     "execution_count": 7,
     "metadata": {},
     "output_type": "execute_result"
    }
   ],
   "source": [
    "Reviews[['lowercase_text_reviews','reviews.rating','Sentiment_rating']].head(5)"
   ]
  },
  {
   "cell_type": "markdown",
   "id": "fc6e565c",
   "metadata": {},
   "source": [
    "### Sentiment Analysis\n",
    "The goal of this project is to train a model that can output if a review is positive or negative."
   ]
  },
  {
   "cell_type": "code",
   "execution_count": 8,
   "id": "04c05a00",
   "metadata": {},
   "outputs": [],
   "source": [
    "X = Reviews['lowercase_text_reviews']\n",
    "y = Reviews['Sentiment_rating']"
   ]
  },
  {
   "cell_type": "markdown",
   "id": "982aebfa",
   "metadata": {},
   "source": [
    "# 1. Count Vectorizer"
   ]
  },
  {
   "cell_type": "markdown",
   "id": "946c8799",
   "metadata": {},
   "source": [
    "Using count vectorizer to vectorize the text data in the review column (training feature for this project) and then use three different classification models from scikit-learn models. After that, to evaluate the model on this dataset find out the accuracy, confusion matrix, true positive rates, and true negative rates. "
   ]
  },
  {
   "cell_type": "markdown",
   "id": "83aca5b9",
   "metadata": {},
   "source": [
    "### 1.1 Logistic Regression"
   ]
  },
  {
   "cell_type": "code",
   "execution_count": 9,
   "id": "2581d905",
   "metadata": {},
   "outputs": [
    {
     "name": "stdout",
     "output_type": "stream",
     "text": [
      "Results for Logistic Regression with CountVectorizer\n",
      "Accuracy score 0.930011862396204\n",
      "Confusion matrix 13 46 13 771\n",
      "True positive rates:  0.9834\n",
      "True negative rates:  0.2203\n"
     ]
    }
   ],
   "source": [
    "from sklearn.model_selection import train_test_split\n",
    "X_train, X_test, y_train, y_test = train_test_split(X, y, \n",
    "                                        test_size = 0.5, random_state=24)\n",
    "from sklearn.feature_extraction.text import CountVectorizer\n",
    "cv = CountVectorizer()\n",
    "#Vectorizing the text data\n",
    "ctmTr = cv.fit_transform(X_train)\n",
    "X_test_dtm = cv.transform(X_test)\n",
    "from sklearn.linear_model import LogisticRegression\n",
    "#Training the model\n",
    "lr = LogisticRegression()\n",
    "lr.fit(ctmTr, y_train)\n",
    "#Accuracy score\n",
    "lr_score = lr.score(X_test_dtm, y_test)\n",
    "print(\"Results for Logistic Regression with CountVectorizer\")\n",
    "print(\"Accuracy score\",lr_score)\n",
    "\n",
    "#Predicting the labels for test data\n",
    "y_pred_lr = lr.predict(X_test_dtm)\n",
    "from sklearn.metrics import confusion_matrix\n",
    "#Confusion matrix\n",
    "cm_lr = confusion_matrix(y_test, y_pred_lr)\n",
    "tn, fp, fn, tp = confusion_matrix(y_test, y_pred_lr).ravel()\n",
    "print(\"Confusion matrix\",tn, fp, fn, tp)\n",
    "\n",
    "\n",
    "#True positive and true negative rates\n",
    "tpr_lr = round(tp/(tp + fn), 4)\n",
    "tnr_lr = round(tn/(tn+fp), 4)\n",
    "print(\"True positive rates: \",tpr_lr)\n",
    "print(\"True negative rates: \",tnr_lr)"
   ]
  },
  {
   "cell_type": "code",
   "execution_count": 10,
   "id": "58be4235",
   "metadata": {},
   "outputs": [
    {
     "name": "stdout",
     "output_type": "stream",
     "text": [
      "              precision    recall  f1-score   support\n",
      "\n",
      "           0       0.50      0.22      0.31        59\n",
      "           1       0.94      0.98      0.96       784\n",
      "\n",
      "    accuracy                           0.93       843\n",
      "   macro avg       0.72      0.60      0.63       843\n",
      "weighted avg       0.91      0.93      0.92       843\n",
      "\n"
     ]
    }
   ],
   "source": [
    "print(classification_report(y_test, y_pred_lr))"
   ]
  },
  {
   "cell_type": "code",
   "execution_count": 11,
   "id": "fd24fded",
   "metadata": {},
   "outputs": [
    {
     "name": "stdout",
     "output_type": "stream",
     "text": [
      "Result for confusion matrix:  13 46 13 771\n"
     ]
    },
    {
     "data": {
      "text/plain": [
       "Text(23.999999999999993, 0.5, 'Actual')"
      ]
     },
     "execution_count": 11,
     "metadata": {},
     "output_type": "execute_result"
    },
    {
     "data": {
      "image/png": "[encoded data removed]",
      "text/plain": [
       "<Figure size 360x360 with 2 Axes>"
      ]
     },
     "metadata": {
      "needs_background": "light"
     },
     "output_type": "display_data"
    }
   ],
   "source": [
    "from sklearn.metrics import confusion_matrix\n",
    "#Confusion matrix\n",
    "cm_lr = confusion_matrix(y_test, y_pred_lr)\n",
    "\n",
    "tn, fp, fn, tp = confusion_matrix(y_test, y_pred_lr).ravel()\n",
    "print(\"Result for confusion matrix: \",tn, fp, fn, tp)\n",
    "\n",
    "plt.figure(figsize = (5,5))\n",
    "sns.heatmap(cm_lr,cmap= \"Blues\", \n",
    "            linecolor = 'black', \n",
    "            linewidth = 1, \n",
    "            annot = True, \n",
    "            fmt='', \n",
    "            xticklabels = ['Negative Reviews','Positive Reviews'], \n",
    "            yticklabels = ['Negative Reviews','Positive Reviews'])\n",
    "plt.xlabel(\"Predicted\")\n",
    "plt.ylabel(\"Actual\")"
   ]
  },
  {
   "cell_type": "markdown",
   "id": "c20e348d",
   "metadata": {},
   "source": [
    "### 1.2 K Nearest Neighbor\n",
    "KNN clasifier takes less time than Support Vector Machine classifier"
   ]
  },
  {
   "cell_type": "code",
   "execution_count": 12,
   "id": "e59e323b",
   "metadata": {},
   "outputs": [
    {
     "name": "stdout",
     "output_type": "stream",
     "text": [
      "Results for KNN Classifier with CountVectorizer\n",
      "Accuracy score 0.933570581257414\n",
      "Confusion matrix:  0 55 1 787\n",
      "True positive rates:  0.9987\n",
      "True negative rates:  0.0\n"
     ]
    }
   ],
   "source": [
    "from sklearn.model_selection import train_test_split\n",
    "X_train, X_test, y_train, y_test = train_test_split(X, y, \n",
    "                                        test_size = 0.5, random_state=143)\n",
    "from sklearn.feature_extraction.text import CountVectorizer\n",
    "\n",
    "cv = CountVectorizer()\n",
    "ctmTr = cv.fit_transform(X_train)\n",
    "X_test_dtm = cv.transform(X_test)\n",
    "\n",
    "from sklearn.neighbors import KNeighborsClassifier\n",
    "knn = KNeighborsClassifier(n_neighbors=5)\n",
    "knn.fit(ctmTr, y_train)\n",
    "knn_score = knn.score(X_test_dtm, y_test)\n",
    "print(\"Results for KNN Classifier with CountVectorizer\")\n",
    "print(\"Accuracy score\",knn_score)\n",
    "\n",
    "y_pred_knn = knn.predict(X_test_dtm)\n",
    "#Confusion matrix\n",
    "cm_knn = confusion_matrix(y_test, y_pred_knn)\n",
    "tn, fp, fn, tp = confusion_matrix(y_test, y_pred_knn).ravel()\n",
    "print(\"Confusion matrix: \",tn, fp, fn, tp)\n",
    "\n",
    "tpr_knn = round(tp/(tp + fn), 4)\n",
    "tnr_knn = round(tn/(tn+fp), 4)\n",
    "print(\"True positive rates: \",tpr_knn)\n",
    "print(\"True negative rates: \",tnr_knn)"
   ]
  },
  {
   "cell_type": "code",
   "execution_count": 13,
   "id": "29164c27",
   "metadata": {},
   "outputs": [
    {
     "name": "stdout",
     "output_type": "stream",
     "text": [
      "              precision    recall  f1-score   support\n",
      "\n",
      "           0       0.00      0.00      0.00        55\n",
      "           1       0.93      1.00      0.97       788\n",
      "\n",
      "    accuracy                           0.93       843\n",
      "   macro avg       0.47      0.50      0.48       843\n",
      "weighted avg       0.87      0.93      0.90       843\n",
      "\n"
     ]
    }
   ],
   "source": [
    "print(classification_report(y_test, y_pred_knn))"
   ]
  },
  {
   "cell_type": "code",
   "execution_count": 14,
   "id": "f3da8e78",
   "metadata": {},
   "outputs": [
    {
     "name": "stdout",
     "output_type": "stream",
     "text": [
      "Result for confusion matrix:  0 55 1 787\n"
     ]
    },
    {
     "data": {
      "text/plain": [
       "Text(23.999999999999993, 0.5, 'Actual')"
      ]
     },
     "execution_count": 14,
     "metadata": {},
     "output_type": "execute_result"
    },
    {
     "data": {
      "image/png": "[encoded data removed]",
      "text/plain": [
       "<Figure size 360x360 with 2 Axes>"
      ]
     },
     "metadata": {
      "needs_background": "light"
     },
     "output_type": "display_data"
    }
   ],
   "source": [
    "from sklearn.metrics import confusion_matrix\n",
    "#Confusion matrix\n",
    "cm_knn = confusion_matrix(y_test, y_pred_knn)\n",
    "\n",
    "tn, fp, fn, tp = confusion_matrix(y_test, y_pred_knn).ravel()\n",
    "print(\"Result for confusion matrix: \",tn, fp, fn, tp)\n",
    "\n",
    "plt.figure(figsize = (5,5))\n",
    "sns.heatmap(cm_knn,cmap= \"Blues\", \n",
    "            linecolor = 'black', \n",
    "            linewidth = 1, \n",
    "            annot = True, \n",
    "            fmt='', \n",
    "            xticklabels = ['Negative Reviews','Positive Reviews'], \n",
    "            yticklabels = ['Negative Reviews','Positive Reviews'])\n",
    "plt.xlabel(\"Predicted\")\n",
    "plt.ylabel(\"Actual\")"
   ]
  },
  {
   "cell_type": "markdown",
   "id": "ff75e3ab",
   "metadata": {},
   "source": [
    "### 1.3 Support Vector Machine"
   ]
  },
  {
   "cell_type": "code",
   "execution_count": 15,
   "id": "dd4f25c6",
   "metadata": {},
   "outputs": [
    {
     "name": "stdout",
     "output_type": "stream",
     "text": [
      "Results for Support Vector Machine with CountVectorizer\n",
      "Accuracy score:  0.9323843416370107\n",
      "Confusion matrix:  0 57 0 786\n",
      "True positive rates:  1.0\n",
      "True negative rates:  0.0\n"
     ]
    }
   ],
   "source": [
    "from sklearn.model_selection import train_test_split\n",
    "X_train, X_test, y_train, y_test = train_test_split(X, y, \n",
    "                                        test_size = 0.5, random_state=123)\n",
    "#Vectorizing the text data\n",
    "cv = CountVectorizer()\n",
    "ctmTr = cv.fit_transform(X_train)\n",
    "X_test_dtm = cv.transform(X_test)\n",
    "from sklearn import svm\n",
    "#Training the model\n",
    "svcl = svm.SVC()\n",
    "svcl.fit(ctmTr, y_train)\n",
    "svcl_score = svcl.score(X_test_dtm, y_test)\n",
    "print(\"Results for Support Vector Machine with CountVectorizer\")\n",
    "print(\"Accuracy score: \",svcl_score)\n",
    "\n",
    "y_pred_sv = svcl.predict(X_test_dtm)\n",
    "#Confusion matrix\n",
    "cm_sv = confusion_matrix(y_test, y_pred_sv)\n",
    "tn, fp, fn, tp = confusion_matrix(y_test, y_pred_sv).ravel()\n",
    "print(\"Confusion matrix: \",tn, fp, fn, tp)\n",
    "tpr_sv = round(tp/(tp + fn), 4)\n",
    "tnr_sv = round(tn/(tn+fp), 4)\n",
    "print(\"True positive rates: \",tpr_sv)\n",
    "print(\"True negative rates: \",tnr_sv)"
   ]
  },
  {
   "cell_type": "code",
   "execution_count": 16,
   "id": "ffca2265",
   "metadata": {},
   "outputs": [
    {
     "name": "stdout",
     "output_type": "stream",
     "text": [
      "              precision    recall  f1-score   support\n",
      "\n",
      "           0       0.00      0.00      0.00        57\n",
      "           1       0.93      1.00      0.97       786\n",
      "\n",
      "    accuracy                           0.93       843\n",
      "   macro avg       0.47      0.50      0.48       843\n",
      "weighted avg       0.87      0.93      0.90       843\n",
      "\n"
     ]
    },
    {
     "name": "stderr",
     "output_type": "stream",
     "text": [
      "/opt/anaconda3/lib/python3.8/site-packages/sklearn/metrics/_classification.py:1245: UndefinedMetricWarning:\n",
      "\n",
      "Precision and F-score are ill-defined and being set to 0.0 in labels with no predicted samples. Use `zero_division` parameter to control this behavior.\n",
      "\n",
      "/opt/anaconda3/lib/python3.8/site-packages/sklearn/metrics/_classification.py:1245: UndefinedMetricWarning:\n",
      "\n",
      "Precision and F-score are ill-defined and being set to 0.0 in labels with no predicted samples. Use `zero_division` parameter to control this behavior.\n",
      "\n",
      "/opt/anaconda3/lib/python3.8/site-packages/sklearn/metrics/_classification.py:1245: UndefinedMetricWarning:\n",
      "\n",
      "Precision and F-score are ill-defined and being set to 0.0 in labels with no predicted samples. Use `zero_division` parameter to control this behavior.\n",
      "\n"
     ]
    }
   ],
   "source": [
    "print(classification_report(y_test, y_pred_sv))"
   ]
  },
  {
   "cell_type": "code",
   "execution_count": 17,
   "id": "7a198090",
   "metadata": {},
   "outputs": [
    {
     "name": "stdout",
     "output_type": "stream",
     "text": [
      "Result for confusion matrix:  0 57 0 786\n"
     ]
    },
    {
     "data": {
      "text/plain": [
       "Text(23.999999999999993, 0.5, 'Actual')"
      ]
     },
     "execution_count": 17,
     "metadata": {},
     "output_type": "execute_result"
    },
    {
     "data": {
      "image/png": "[encoded data removed]",
      "text/plain": [
       "<Figure size 360x360 with 2 Axes>"
      ]
     },
     "metadata": {
      "needs_background": "light"
     },
     "output_type": "display_data"
    }
   ],
   "source": [
    "from sklearn.metrics import confusion_matrix\n",
    "#Confusion matrix\n",
    "cm_sv = confusion_matrix(y_test, y_pred_sv)\n",
    "\n",
    "tn, fp, fn, tp = confusion_matrix(y_test, y_pred_sv).ravel()\n",
    "print(\"Result for confusion matrix: \",tn, fp, fn, tp)\n",
    "\n",
    "plt.figure(figsize = (5,5))\n",
    "sns.heatmap(cm_sv,cmap= \"Blues\", \n",
    "            linecolor = 'black', \n",
    "            linewidth = 1, \n",
    "            annot = True, \n",
    "            fmt='', \n",
    "            xticklabels = ['Negative Reviews','Positive Reviews'], \n",
    "            yticklabels = ['Negative Reviews','Positive Reviews'])\n",
    "plt.xlabel(\"Predicted\")\n",
    "plt.ylabel(\"Actual\")"
   ]
  },
  {
   "cell_type": "markdown",
   "id": "25338012",
   "metadata": {},
   "source": [
    "### 1.4 Random Forest with Countvectorizer"
   ]
  },
  {
   "cell_type": "code",
   "execution_count": 18,
   "id": "5b03580b",
   "metadata": {},
   "outputs": [
    {
     "name": "stdout",
     "output_type": "stream",
     "text": [
      "Results for Random Forest Classifier with CountVectorizer\n",
      "Accuracy score 0.933570581257414\n",
      "Confusion matrix:  0 51 1 791\n",
      "True positive rates:  0.9987\n",
      "True negative rates:  0.0\n"
     ]
    }
   ],
   "source": [
    "from sklearn.model_selection import train_test_split\n",
    "X_train, X_test, y_train, y_test = train_test_split(X, y, \n",
    "                                        test_size = 0.5, random_state= None)\n",
    "from sklearn.feature_extraction.text import CountVectorizer\n",
    "\n",
    "cv = CountVectorizer()\n",
    "rf_cv = cv.fit_transform(X_train)\n",
    "X_test_dtm = cv.transform(X_test)\n",
    "\n",
    "from sklearn.ensemble import RandomForestClassifier\n",
    "from sklearn.model_selection import cross_val_score\n",
    "rf = RandomForestClassifier(bootstrap=True, class_weight=None)\n",
    "rf.fit(rf_cv, y_train)\n",
    "rf_score = rf.score(X_test_dtm, y_test)\n",
    "print(\"Results for Random Forest Classifier with CountVectorizer\")\n",
    "print(\"Accuracy score\",knn_score)\n",
    "\n",
    "y_pred_rf = rf.predict(X_test_dtm)\n",
    "#Confusion matrix\n",
    "cm_rf = confusion_matrix(y_test, y_pred_rf)\n",
    "tn, fp, fn, tp = confusion_matrix(y_test, y_pred_rf).ravel()\n",
    "print(\"Confusion matrix: \",tn, fp, fn, tp)\n",
    "\n",
    "tpr_rf = round(tp/(tp + fn), 4)\n",
    "tnr_rf = round(tn/(tn+fp), 4)\n",
    "print(\"True positive rates: \",tpr_rf)\n",
    "print(\"True negative rates: \",tnr_rf)"
   ]
  },
  {
   "cell_type": "code",
   "execution_count": 19,
   "id": "0778cf58",
   "metadata": {},
   "outputs": [
    {
     "name": "stdout",
     "output_type": "stream",
     "text": [
      "              precision    recall  f1-score   support\n",
      "\n",
      "           0       0.00      0.00      0.00        51\n",
      "           1       0.94      1.00      0.97       792\n",
      "\n",
      "    accuracy                           0.94       843\n",
      "   macro avg       0.47      0.50      0.48       843\n",
      "weighted avg       0.88      0.94      0.91       843\n",
      "\n"
     ]
    }
   ],
   "source": [
    "print(classification_report(y_test, y_pred_rf))"
   ]
  },
  {
   "cell_type": "code",
   "execution_count": 20,
   "id": "557e0901",
   "metadata": {},
   "outputs": [
    {
     "name": "stdout",
     "output_type": "stream",
     "text": [
      "Result for confusion matrix:  0 51 1 791\n"
     ]
    },
    {
     "data": {
      "text/plain": [
       "Text(23.999999999999993, 0.5, 'Actual')"
      ]
     },
     "execution_count": 20,
     "metadata": {},
     "output_type": "execute_result"
    },
    {
     "data": {
      "image/png": "[encoded data removed]",
      "text/plain": [
       "<Figure size 360x360 with 2 Axes>"
      ]
     },
     "metadata": {
      "needs_background": "light"
     },
     "output_type": "display_data"
    }
   ],
   "source": [
    "from sklearn.metrics import confusion_matrix\n",
    "#Confusion matrix\n",
    "cm_rf = confusion_matrix(y_test, y_pred_rf)\n",
    "\n",
    "tn, fp, fn, tp = confusion_matrix(y_test, y_pred_rf).ravel()\n",
    "print(\"Result for confusion matrix: \",tn, fp, fn, tp)\n",
    "\n",
    "plt.figure(figsize = (5,5))\n",
    "sns.heatmap(cm_rf,cmap= \"Blues\", \n",
    "            linecolor = 'black', \n",
    "            linewidth = 1, \n",
    "            annot = True, \n",
    "            fmt='', \n",
    "            xticklabels = ['Negative Reviews','Positive Reviews'], \n",
    "            yticklabels = ['Negative Reviews','Positive Reviews'])\n",
    "plt.xlabel(\"Predicted\")\n",
    "plt.ylabel(\"Actual\")"
   ]
  },
  {
   "cell_type": "markdown",
   "id": "83413460",
   "metadata": {},
   "source": [
    "# 2. TF-IDF Vectorizer\n",
    "The vectorizer is known to be more popular one because it uses the term frequency of words, and using TF-IDF vectorizer."
   ]
  },
  {
   "cell_type": "markdown",
   "id": "60174218",
   "metadata": {},
   "source": [
    "### 2.1 Logistic regression with the TF-IDF vectorizer"
   ]
  },
  {
   "cell_type": "code",
   "execution_count": 21,
   "id": "f67227f5",
   "metadata": {},
   "outputs": [
    {
     "name": "stdout",
     "output_type": "stream",
     "text": [
      "Results for Logistic Regression with TF-IDF vectorizer\n",
      "Accuracy score:  0.9406880189798339\n",
      "Confusion matrix:  0 50 0 793\n",
      "True positive rates:  1.0\n",
      "True negative rates:  0.0\n"
     ]
    }
   ],
   "source": [
    "from sklearn.model_selection import train_test_split\n",
    "X_train, X_test, y_train, y_test = train_test_split(X, y, \n",
    "                                        test_size = 0.5, random_state=45)\n",
    "from sklearn.feature_extraction.text import TfidfVectorizer\n",
    "#tfidf vectorizer\n",
    "vectorizer = TfidfVectorizer()\n",
    "X_train_vec = vectorizer.fit_transform(X_train)\n",
    "X_test_vec = vectorizer.transform(X_test)\n",
    "from sklearn.linear_model import LogisticRegression\n",
    "lr = LogisticRegression()\n",
    "lr.fit(X_train_vec, y_train)\n",
    "lr_score = lr.score(X_test_vec, y_test)\n",
    "print(\"Results for Logistic Regression with TF-IDF vectorizer\")\n",
    "print(\"Accuracy score: \",lr_score)\n",
    "\n",
    "y_pred_lr = lr.predict(X_test_vec)\n",
    "#Confusion matrix\n",
    "from sklearn.metrics import confusion_matrix\n",
    "cm_lr = confusion_matrix(y_test, y_pred_lr)\n",
    "tn, fp, fn, tp = confusion_matrix(y_test, y_pred_lr).ravel()\n",
    "print(\"Confusion matrix: \", tn, fp, fn, tp)\n",
    "\n",
    "tpr_lr_tf_idf = round(tp/(tp + fn), 4)\n",
    "tnr_lr_tf_idf = round(tn/(tn+fp), 4)\n",
    "print(\"True positive rates: \", tpr_lr_tf_idf)\n",
    "print(\"True negative rates: \", tnr_lr_tf_idf)"
   ]
  },
  {
   "cell_type": "code",
   "execution_count": 22,
   "id": "dd3253d4",
   "metadata": {},
   "outputs": [
    {
     "name": "stdout",
     "output_type": "stream",
     "text": [
      "              precision    recall  f1-score   support\n",
      "\n",
      "           0       0.00      0.00      0.00        50\n",
      "           1       0.94      1.00      0.97       793\n",
      "\n",
      "    accuracy                           0.94       843\n",
      "   macro avg       0.47      0.50      0.48       843\n",
      "weighted avg       0.88      0.94      0.91       843\n",
      "\n"
     ]
    },
    {
     "name": "stderr",
     "output_type": "stream",
     "text": [
      "/opt/anaconda3/lib/python3.8/site-packages/sklearn/metrics/_classification.py:1245: UndefinedMetricWarning:\n",
      "\n",
      "Precision and F-score are ill-defined and being set to 0.0 in labels with no predicted samples. Use `zero_division` parameter to control this behavior.\n",
      "\n",
      "/opt/anaconda3/lib/python3.8/site-packages/sklearn/metrics/_classification.py:1245: UndefinedMetricWarning:\n",
      "\n",
      "Precision and F-score are ill-defined and being set to 0.0 in labels with no predicted samples. Use `zero_division` parameter to control this behavior.\n",
      "\n",
      "/opt/anaconda3/lib/python3.8/site-packages/sklearn/metrics/_classification.py:1245: UndefinedMetricWarning:\n",
      "\n",
      "Precision and F-score are ill-defined and being set to 0.0 in labels with no predicted samples. Use `zero_division` parameter to control this behavior.\n",
      "\n"
     ]
    }
   ],
   "source": [
    "print(classification_report(y_test, y_pred_lr))"
   ]
  },
  {
   "cell_type": "code",
   "execution_count": 23,
   "id": "aad7eaef",
   "metadata": {},
   "outputs": [
    {
     "name": "stdout",
     "output_type": "stream",
     "text": [
      "Result for confusion matrix:  0 50 0 793\n"
     ]
    },
    {
     "data": {
      "text/plain": [
       "Text(23.999999999999993, 0.5, 'Actual')"
      ]
     },
     "execution_count": 23,
     "metadata": {},
     "output_type": "execute_result"
    },
    {
     "data": {
      "image/png": "[encoded data removed]",
      "text/plain": [
       "<Figure size 360x360 with 2 Axes>"
      ]
     },
     "metadata": {
      "needs_background": "light"
     },
     "output_type": "display_data"
    }
   ],
   "source": [
    "from sklearn.metrics import confusion_matrix\n",
    "#Confusion matrix\n",
    "cm_lr = confusion_matrix(y_test, y_pred_lr)\n",
    "\n",
    "tn, fp, fn, tp = confusion_matrix(y_test, y_pred_lr).ravel()\n",
    "print(\"Result for confusion matrix: \",tn, fp, fn, tp)\n",
    "\n",
    "plt.figure(figsize = (5,5))\n",
    "sns.heatmap(cm_lr,cmap= \"Blues\", \n",
    "            linecolor = 'black', \n",
    "            linewidth = 1, \n",
    "            annot = True, \n",
    "            fmt='', \n",
    "            xticklabels = ['Negative Reviews','Positive Reviews'], \n",
    "            yticklabels = ['Negative Reviews','Positive Reviews'])\n",
    "plt.xlabel(\"Predicted\")\n",
    "plt.ylabel(\"Actual\")"
   ]
  },
  {
   "cell_type": "markdown",
   "id": "fa413bf0",
   "metadata": {},
   "source": [
    "### 2.2 K Nearest Neighbor with the TF-IDF vectorizer"
   ]
  },
  {
   "cell_type": "code",
   "execution_count": 24,
   "id": "8f35060e",
   "metadata": {},
   "outputs": [
    {
     "name": "stdout",
     "output_type": "stream",
     "text": [
      "Results for KNN Classifier with tfidf\n",
      "Accuracy score:  0.9323843416370107\n",
      "Confusion matrix:  4 46 11 782\n",
      "True positive rates: 0.9861\n",
      "True negative rates: 0.08\n"
     ]
    }
   ],
   "source": [
    "from sklearn.model_selection import train_test_split\n",
    "X_train, X_test, y_train, y_test = train_test_split(X, y, \n",
    "                                        test_size = 0.5, random_state=300)\n",
    "\n",
    "vectorizer = TfidfVectorizer()\n",
    "#vectorizer = TfidfVectorizer()\n",
    "X_train_vec = vectorizer.fit_transform(X_train)\n",
    "X_test_vec = vectorizer.transform(X_test)\n",
    "from sklearn.neighbors import KNeighborsClassifier\n",
    "knn = KNeighborsClassifier(n_neighbors=5)\n",
    "knn.fit(X_train_vec, y_train)\n",
    "knn_score = knn.score(X_test_vec, y_test)\n",
    "print(\"Results for KNN Classifier with tfidf\")\n",
    "print(\"Accuracy score: \", knn_score)\n",
    "y_pred_knn = knn.predict(X_test_vec)\n",
    "#Confusion matrix\n",
    "cm_knn_tf_idf = confusion_matrix(y_test, y_pred_knn)\n",
    "tn, fp, fn, tp = confusion_matrix(y_test, y_pred_knn).ravel()\n",
    "print(\"Confusion matrix: \",tn, fp, fn, tp)\n",
    "tpr_knn = round(tp/(tp + fn), 4)\n",
    "tnr_knn = round(tn/(tn+fp), 4)\n",
    "print(\"True positive rates:\", tpr_knn)\n",
    "print(\"True negative rates:\", tnr_knn)"
   ]
  },
  {
   "cell_type": "code",
   "execution_count": 25,
   "id": "e61f7fba",
   "metadata": {},
   "outputs": [
    {
     "name": "stdout",
     "output_type": "stream",
     "text": [
      "              precision    recall  f1-score   support\n",
      "\n",
      "           0       0.27      0.08      0.12        50\n",
      "           1       0.94      0.99      0.96       793\n",
      "\n",
      "    accuracy                           0.93       843\n",
      "   macro avg       0.61      0.53      0.54       843\n",
      "weighted avg       0.90      0.93      0.91       843\n",
      "\n"
     ]
    }
   ],
   "source": [
    "print(classification_report(y_test, y_pred_knn))"
   ]
  },
  {
   "cell_type": "code",
   "execution_count": 26,
   "id": "20c014cb",
   "metadata": {},
   "outputs": [
    {
     "name": "stdout",
     "output_type": "stream",
     "text": [
      "Result for confusion matrix:  4 46 11 782\n"
     ]
    },
    {
     "data": {
      "text/plain": [
       "Text(23.999999999999993, 0.5, 'Actual')"
      ]
     },
     "execution_count": 26,
     "metadata": {},
     "output_type": "execute_result"
    },
    {
     "data": {
      "image/png": "[encoded data removed]",
      "text/plain": [
       "<Figure size 360x360 with 2 Axes>"
      ]
     },
     "metadata": {
      "needs_background": "light"
     },
     "output_type": "display_data"
    }
   ],
   "source": [
    "from sklearn.metrics import confusion_matrix\n",
    "#Confusion matrix\n",
    "cm_knn_tf_idf = confusion_matrix(y_test, y_pred_knn)\n",
    "\n",
    "tn, fp, fn, tp = confusion_matrix(y_test, y_pred_knn).ravel()\n",
    "print(\"Result for confusion matrix: \",tn, fp, fn, tp)\n",
    "\n",
    "plt.figure(figsize = (5,5))\n",
    "sns.heatmap(cm_knn_tf_idf,cmap= \"Blues\", \n",
    "            linecolor = 'black', \n",
    "            linewidth = 1, \n",
    "            annot = True, \n",
    "            fmt='', \n",
    "            xticklabels = ['Negative Reviews','Positive Reviews'], \n",
    "            yticklabels = ['Negative Reviews','Positive Reviews'])\n",
    "plt.xlabel(\"Predicted\")\n",
    "plt.ylabel(\"Actual\")"
   ]
  },
  {
   "cell_type": "markdown",
   "id": "f22bdbbf",
   "metadata": {},
   "source": [
    "### 2.3 Support Vector Machine with the TF-IDF vectorizer"
   ]
  },
  {
   "cell_type": "code",
   "execution_count": 27,
   "id": "243bd9f3",
   "metadata": {},
   "outputs": [
    {
     "name": "stdout",
     "output_type": "stream",
     "text": [
      "Results for Support Vector Machine with tfidf\n",
      "Accuracy score:  0.9288256227758007\n",
      "Confusion matrix:  0 60 0 783\n",
      "True positive rates: 1.0\n",
      "True negative rates: 0.0\n"
     ]
    }
   ],
   "source": [
    "from sklearn.model_selection import train_test_split\n",
    "X_train, X_test, y_train, y_test = train_test_split(X, y, \n",
    "                                        test_size = 0.5, random_state=55)\n",
    "vectorizer = TfidfVectorizer()\n",
    "X_train_vec = vectorizer.fit_transform(X_train)\n",
    "X_test_vec = vectorizer.transform(X_test)\n",
    "from sklearn import svm\n",
    "\n",
    "svcl = svm.SVC(kernel = 'rbf')\n",
    "\n",
    "svcl.fit(X_train_vec, y_train)\n",
    "svcl_score = svcl.score(X_test_vec, y_test)\n",
    "print(\"Results for Support Vector Machine with tfidf\")\n",
    "print(\"Accuracy score: \", svcl_score)\n",
    "\n",
    "y_pred_sv = svcl.predict(X_test_vec)\n",
    "#Confusion matrix\n",
    "from sklearn.metrics import confusion_matrix\n",
    "cm_sv = confusion_matrix(y_test, y_pred_sv)\n",
    "tn, fp, fn, tp = confusion_matrix(y_test, y_pred_sv).ravel()\n",
    "print(\"Confusion matrix: \",tn, fp, fn, tp)\n",
    "tpr_sv = round(tp/(tp + fn), 4)\n",
    "tnr_sv = round(tn/(tn+fp), 4)\n",
    "print(\"True positive rates:\", tpr_sv)\n",
    "print(\"True negative rates:\", tnr_sv)"
   ]
  },
  {
   "cell_type": "code",
   "execution_count": 28,
   "id": "31b71bdf",
   "metadata": {},
   "outputs": [
    {
     "name": "stdout",
     "output_type": "stream",
     "text": [
      "              precision    recall  f1-score   support\n",
      "\n",
      "           0       0.00      0.00      0.00        60\n",
      "           1       0.93      1.00      0.96       783\n",
      "\n",
      "    accuracy                           0.93       843\n",
      "   macro avg       0.46      0.50      0.48       843\n",
      "weighted avg       0.86      0.93      0.89       843\n",
      "\n"
     ]
    },
    {
     "name": "stderr",
     "output_type": "stream",
     "text": [
      "/opt/anaconda3/lib/python3.8/site-packages/sklearn/metrics/_classification.py:1245: UndefinedMetricWarning:\n",
      "\n",
      "Precision and F-score are ill-defined and being set to 0.0 in labels with no predicted samples. Use `zero_division` parameter to control this behavior.\n",
      "\n",
      "/opt/anaconda3/lib/python3.8/site-packages/sklearn/metrics/_classification.py:1245: UndefinedMetricWarning:\n",
      "\n",
      "Precision and F-score are ill-defined and being set to 0.0 in labels with no predicted samples. Use `zero_division` parameter to control this behavior.\n",
      "\n",
      "/opt/anaconda3/lib/python3.8/site-packages/sklearn/metrics/_classification.py:1245: UndefinedMetricWarning:\n",
      "\n",
      "Precision and F-score are ill-defined and being set to 0.0 in labels with no predicted samples. Use `zero_division` parameter to control this behavior.\n",
      "\n"
     ]
    }
   ],
   "source": [
    "print(classification_report(y_test, y_pred_sv))"
   ]
  },
  {
   "cell_type": "code",
   "execution_count": 29,
   "id": "826f47c1",
   "metadata": {},
   "outputs": [
    {
     "name": "stdout",
     "output_type": "stream",
     "text": [
      "Result for confusion matrix:  0 60 0 783\n"
     ]
    },
    {
     "data": {
      "text/plain": [
       "Text(23.999999999999993, 0.5, 'Actual')"
      ]
     },
     "execution_count": 29,
     "metadata": {},
     "output_type": "execute_result"
    },
    {
     "data": {
      "image/png": "[encoded data removed]",
      "text/plain": [
       "<Figure size 360x360 with 2 Axes>"
      ]
     },
     "metadata": {
      "needs_background": "light"
     },
     "output_type": "display_data"
    }
   ],
   "source": [
    "from sklearn.metrics import confusion_matrix\n",
    "#Confusion matrix\n",
    "cm_sv_tf_idf = confusion_matrix(y_test, y_pred_sv)\n",
    "\n",
    "tn, fp, fn, tp = confusion_matrix(y_test, y_pred_sv).ravel()\n",
    "print(\"Result for confusion matrix: \",tn, fp, fn, tp)\n",
    "\n",
    "plt.figure(figsize = (5,5))\n",
    "sns.heatmap(cm_sv,cmap= \"Blues\", \n",
    "            linecolor = 'black', \n",
    "            linewidth = 1, \n",
    "            annot = True, \n",
    "            fmt='', \n",
    "            xticklabels = ['Negative Reviews','Positive Reviews'], \n",
    "            yticklabels = ['Negative Reviews','Positive Reviews'])\n",
    "plt.xlabel(\"Predicted\")\n",
    "plt.ylabel(\"Actual\")"
   ]
  },
  {
   "cell_type": "markdown",
   "id": "dfdee52f",
   "metadata": {},
   "source": [
    "### 2.4 Random Forest with the TF-IDF vectorizer"
   ]
  },
  {
   "cell_type": "code",
   "execution_count": 30,
   "id": "e3b43e83",
   "metadata": {},
   "outputs": [
    {
     "name": "stdout",
     "output_type": "stream",
     "text": [
      "Results for Support Vector Machine with tfidf\n",
      "Accuracy score:  0.8730723606168446\n",
      "Confusion matrix:  4 56 51 732\n",
      "True positive rates: 0.9349\n",
      "True negative rates: 0.0667\n"
     ]
    }
   ],
   "source": [
    "from sklearn.model_selection import train_test_split\n",
    "X_train, X_test, y_train, y_test = train_test_split(X, y, \n",
    "                                        test_size = 0.5, random_state=100)\n",
    "vectorizer = TfidfVectorizer()\n",
    "X_train_rf = vectorizer.fit_transform(X_train)\n",
    "X_test_rf = vectorizer.transform(X_test)\n",
    "\n",
    "from sklearn.ensemble import RandomForestClassifier\n",
    "\n",
    "rf_tf_idf = RandomForestClassifier()\n",
    "rf_tf_idf.fit(X_test_rf,y_train)\n",
    "\n",
    "\n",
    "rf_tf_idf_score = rf_tf_idf.score(X_test_rf, y_test)\n",
    "print(\"Results for Support Vector Machine with tfidf\")\n",
    "print(\"Accuracy score: \", rf_tf_idf_score)\n",
    "\n",
    "y_pred_rf_tf_idf = rf_tf_idf.predict(X_test_rf)\n",
    "#Confusion matrix\n",
    "from sklearn.metrics import confusion_matrix\n",
    "rf_tf_idf = confusion_matrix(y_test, y_pred_rf_tf_idf)\n",
    "tn, fp, fn, tp = confusion_matrix(y_test, y_pred_rf_tf_idf).ravel()\n",
    "print(\"Confusion matrix: \",tn, fp, fn, tp)\n",
    "tpr_rf_tf_idf = round(tp/(tp + fn), 4)\n",
    "tnr_rf_tf_idf = round(tn/(tn+fp), 4)\n",
    "\n",
    "print(\"True positive rates:\", tpr_rf_tf_idf)\n",
    "print(\"True negative rates:\", tnr_rf_tf_idf)"
   ]
  },
  {
   "cell_type": "code",
   "execution_count": 31,
   "id": "cd3a3785",
   "metadata": {},
   "outputs": [
    {
     "name": "stdout",
     "output_type": "stream",
     "text": [
      "              precision    recall  f1-score   support\n",
      "\n",
      "           0       0.07      0.07      0.07        60\n",
      "           1       0.93      0.93      0.93       783\n",
      "\n",
      "    accuracy                           0.87       843\n",
      "   macro avg       0.50      0.50      0.50       843\n",
      "weighted avg       0.87      0.87      0.87       843\n",
      "\n"
     ]
    }
   ],
   "source": [
    "print(classification_report(y_test, y_pred_rf_tf_idf))"
   ]
  },
  {
   "cell_type": "code",
   "execution_count": 32,
   "id": "da05de44",
   "metadata": {},
   "outputs": [
    {
     "name": "stdout",
     "output_type": "stream",
     "text": [
      "Result for confusion matrix:  4 56 51 732\n"
     ]
    },
    {
     "data": {
      "text/plain": [
       "Text(23.999999999999993, 0.5, 'Actual')"
      ]
     },
     "execution_count": 32,
     "metadata": {},
     "output_type": "execute_result"
    },
    {
     "data": {
      "image/png": "[encoded data removed]",
      "text/plain": [
       "<Figure size 360x360 with 2 Axes>"
      ]
     },
     "metadata": {
      "needs_background": "light"
     },
     "output_type": "display_data"
    }
   ],
   "source": [
    "from sklearn.metrics import confusion_matrix\n",
    "#Confusion matrix\n",
    "rf_tf_idf = confusion_matrix(y_test, y_pred_rf_tf_idf)\n",
    "tn, fp, fn, tp = confusion_matrix(y_test, y_pred_rf_tf_idf).ravel()\n",
    "print(\"Result for confusion matrix: \",tn, fp, fn, tp)\n",
    "\n",
    "plt.figure(figsize = (5,5))\n",
    "sns.heatmap(rf_tf_idf,cmap= \"Blues\", \n",
    "            linecolor = 'black', \n",
    "            linewidth = 1, \n",
    "            annot = True, \n",
    "            fmt='', \n",
    "            xticklabels = ['Negative Reviews','Positive Reviews'], \n",
    "            yticklabels = ['Negative Reviews','Positive Reviews'])\n",
    "plt.xlabel(\"Predicted\")\n",
    "plt.ylabel(\"Actual\")"
   ]
  },
  {
   "cell_type": "markdown",
   "id": "6c99ecaa",
   "metadata": {},
   "source": [
    "# Conclusion"
   ]
  },
  {
   "attachments": {
    "Screen%20Shot%202022-11-13%20at%2010.39.50%20PM.png": {
     "image/png": "[encoded data removed]"
    }
   },
   "cell_type": "markdown",
   "id": "a315685a",
   "metadata": {},
   "source": [
    "![Screen%20Shot%202022-11-13%20at%2010.39.50%20PM.png](attachment:Screen%20Shot%202022-11-13%20at%2010.39.50%20PM.png)"
   ]
  },
  {
   "cell_type": "markdown",
   "id": "d2658e8b",
   "metadata": {},
   "source": [
    "#### Some findings:\n",
    "\n",
    "1. Logistic regression was the best out of all three classifiers used for this project considering overall accuracy, true positive rate, and true negative rate.\n",
    "\n",
    "\n",
    "2. The Support Vector classifier does not seem to be suitable for this project. Though true positive rates look very good, true negative rates look really poor.\n",
    "\n",
    "\n",
    "3. Count Vectorizer give number of frequency with respect to index of vocabulary where as tf-idf consider overall documents of weight of words, but from my analysis it has very little difference of performance."
   ]
  }
 ],
 "metadata": {
  "kernelspec": {
   "display_name": "Python 3",
   "language": "python",
   "name": "python3"
  },
  "language_info": {
   "codemirror_mode": {
    "name": "ipython",
    "version": 3
   },
   "file_extension": ".py",
   "mimetype": "text/x-python",
   "name": "python",
   "nbconvert_exporter": "python",
   "pygments_lexer": "ipython3",
   "version": "3.8.8"
  }
 },
 "nbformat": 4,
 "nbformat_minor": 5
}
